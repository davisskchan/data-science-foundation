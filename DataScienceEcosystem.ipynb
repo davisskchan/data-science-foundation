{
  "metadata": {
    "kernelspec": {
      "name": "python",
      "display_name": "Python (Pyodide)",
      "language": "python"
    },
    "language_info": {
      "codemirror_mode": {
        "name": "python",
        "version": 3
      },
      "file_extension": ".py",
      "mimetype": "text/x-python",
      "name": "python",
      "nbconvert_exporter": "python",
      "pygments_lexer": "ipython3",
      "version": "3.8"
    }
  },
  "nbformat_minor": 5,
  "nbformat": 4,
  "cells": [
    {
      "id": "7af74ea0-59ce-4795-a7b1-256725ed5a95",
      "cell_type": "markdown",
      "source": "# Data Science Tools and Ecosystem",
      "metadata": {}
    },
    {
      "id": "6c767042-9da1-4cca-bd3b-9b7bfdc2e0fa",
      "cell_type": "markdown",
      "source": "In this notebook, Data Science Tools and Ecosystem are summarized.",
      "metadata": {}
    },
    {
      "id": "ef1482cc-3e22-4983-accf-ab56fb7b3db9",
      "cell_type": "markdown",
      "source": "**Objectives:**\n\n+ python\n+ scala\n+ R",
      "metadata": {}
    },
    {
      "id": "7fab0a6b-882a-4852-9693-f8de5681aab4",
      "cell_type": "markdown",
      "source": "<ol>\n<li>python</li>\n<li>R</li>\n<li>Scala</li>\n</ol>",
      "metadata": {}
    },
    {
      "id": "ca18c7fc-3334-489f-9ec0-b7c0b4fdccc3",
      "cell_type": "markdown",
      "source": "Some of the commonly used libraries used by Data Scientists include:\n\n<ol>\n<li>pandas</li>\n<li>numpy</li>\n<li>Tensorflow</li>\n</ol>",
      "metadata": {}
    },
    {
      "id": "d2eddcfe-9ca4-4dc0-a53b-c57858a7d7e3",
      "cell_type": "markdown",
      "source": "| Data Science Tools |\n:---------------------\n| Jupyter Notebook   |\n| RStudio            |\n| VS Code            |",
      "metadata": {}
    },
    {
      "id": "07a8ec82-efbb-4c9f-b528-af4e04b8a7fb",
      "cell_type": "markdown",
      "source": "### Below are a few examples of evaluating arithmetic expressions in Python",
      "metadata": {}
    },
    {
      "id": "abf90229-194a-4c64-b8c3-5fb60e994f30",
      "cell_type": "code",
      "source": "# This a simple arithmetic expression to mutiply then add integers\n(3*4)+5",
      "metadata": {
        "trusted": true
      },
      "outputs": [
        {
          "execution_count": 3,
          "output_type": "execute_result",
          "data": {
            "text/plain": "17"
          },
          "metadata": {}
        }
      ],
      "execution_count": 3
    },
    {
      "id": "23c43f1c-de97-413a-91e4-ed4b78ea2006",
      "cell_type": "code",
      "source": "# This will convert 200 minutes to hours by diving by 60\n200 / 60",
      "metadata": {
        "trusted": true
      },
      "outputs": [
        {
          "execution_count": 8,
          "output_type": "execute_result",
          "data": {
            "text/plain": "3.3333333333333335"
          },
          "metadata": {}
        }
      ],
      "execution_count": 8
    },
    {
      "id": "58e2400f-251b-44ab-80d9-574a05425a79",
      "cell_type": "code",
      "source": "",
      "metadata": {
        "trusted": true
      },
      "outputs": [],
      "execution_count": null
    }
  ]
}